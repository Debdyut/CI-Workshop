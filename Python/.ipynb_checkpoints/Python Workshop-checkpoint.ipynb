{
 "cells": [
  {
   "cell_type": "markdown",
   "metadata": {},
   "source": [
    "# Python Workshop\n",
    "\n",
    "Python is a general-purpose interpreted, interactive, object-oriented, and high-level programming language. It was created by Guido van Rossum during 1985- 1990. Python source code is available under the GNU General Public License (GPL), i.e. it's open source. \n",
    "\n",
    "## 1. Hello, BPPIMT!\n",
    "\n",
    "Following is the code for the conventional hello world program in Python."
   ]
  },
  {
   "cell_type": "code",
   "execution_count": 1,
   "metadata": {},
   "outputs": [
    {
     "name": "stdout",
     "output_type": "stream",
     "text": [
      "Hello, BPPIMT!\n"
     ]
    }
   ],
   "source": [
    "print(\"Hello, BPPIMT!\")"
   ]
  },
  {
   "cell_type": "markdown",
   "metadata": {},
   "source": [
    "## Commenting in Python\n",
    "\n",
    "There are two types of commenting in python as shown below."
   ]
  },
  {
   "cell_type": "code",
   "execution_count": 2,
   "metadata": {},
   "outputs": [
    {
     "data": {
      "text/plain": [
       "'\\n    This is also a comment.\\n    You can write multiple lines of comment using this.\\n'"
      ]
     },
     "execution_count": 2,
     "metadata": {},
     "output_type": "execute_result"
    }
   ],
   "source": [
    "# This is a comment\n",
    "\n",
    "\"\"\"\n",
    "    This is also a comment.\n",
    "    You can write multiple lines of comment using this.\n",
    "\"\"\""
   ]
  },
  {
   "cell_type": "markdown",
   "metadata": {},
   "source": [
    "## 2. Printing Variables\n",
    "\n",
    "Python variables do not need explicit declaration to reserve memory space. The declaration happens automatically when you assign a value to a variable. The equal sign (=) is used to assign values to variables."
   ]
  },
  {
   "cell_type": "code",
   "execution_count": 3,
   "metadata": {},
   "outputs": [
    {
     "name": "stdout",
     "output_type": "stream",
     "text": [
      "100\n",
      "1000.0\n",
      "John\n"
     ]
    }
   ],
   "source": [
    "counter = 100          # An integer assignment\n",
    "miles   = 1000.0       # A floating point\n",
    "name    = \"John\"       # A string\n",
    "\n",
    "print counter\n",
    "print miles\n",
    "print name"
   ]
  },
  {
   "cell_type": "markdown",
   "metadata": {},
   "source": [
    "## 3. Swapping 2 numbers\n",
    "\n",
    "In python, you can assign multiple objects to multiple variables in a single line."
   ]
  },
  {
   "cell_type": "code",
   "execution_count": 4,
   "metadata": {},
   "outputs": [
    {
     "name": "stdout",
     "output_type": "stream",
     "text": [
      "a = 8\n",
      "b = 5\n"
     ]
    }
   ],
   "source": [
    "a = 5\n",
    "b = 8\n",
    "\n",
    "a, b = b, a\n",
    "\n",
    "print \"a = \" + str(a)\n",
    "print \"b = \" + str(b)"
   ]
  },
  {
   "cell_type": "markdown",
   "metadata": {},
   "source": [
    "## Python Data types\n",
    "\n",
    "Python has five standard data types −\n",
    "<ul>\n",
    "    <li>Numbers</li>\n",
    "    <li>String</li>\n",
    "    <li>List</li>\n",
    "    <li>Tuple</li>\n",
    "    <li>Dictionary</li>\n",
    "</ul>"
   ]
  },
  {
   "cell_type": "markdown",
   "metadata": {},
   "source": [
    "## Python Numbers\n",
    "\n",
    "Python supports four different numerical types −\n",
    "<ul>\n",
    "    <li>int</li>\n",
    "    <li>long</li>\n",
    "    <li>float</li>\n",
    "    <li>complex</li>\n",
    "</ul>"
   ]
  },
  {
   "cell_type": "code",
   "execution_count": 5,
   "metadata": {},
   "outputs": [
    {
     "name": "stdout",
     "output_type": "stream",
     "text": [
      "10\n",
      "310154114687948792274813492416458874069290879741385354066259033875756607541870592\n",
      "9.0\n",
      "(3+4j)\n"
     ]
    }
   ],
   "source": [
    "var1 = 10\n",
    "var2 = 3.101541146879488e+80\n",
    "var3 = 9.00\n",
    "var4 = 3 + 4j\n",
    "\n",
    "print var1\n",
    "print long(var2)\n",
    "print var3\n",
    "print var4"
   ]
  },
  {
   "cell_type": "markdown",
   "metadata": {},
   "source": [
    "## Python Strings\n",
    "\n",
    "Strings in Python are identified as a contiguous set of characters represented in the quotation marks. Python allows for either pairs of single or double quotes. Subsets of strings can be taken using the slice operator ([ ] and [:] ) with indexes starting at 0 in the beginning of the string and working their way from -1 at the end."
   ]
  },
  {
   "cell_type": "code",
   "execution_count": 6,
   "metadata": {},
   "outputs": [
    {
     "name": "stdout",
     "output_type": "stream",
     "text": [
      "Hello World!\n",
      "H\n",
      "llo\n",
      "llo World!\n",
      "Hello World!Hello World!\n",
      "Hello World!TEST\n"
     ]
    }
   ],
   "source": [
    "sample = 'Hello World!'\n",
    "\n",
    "print sample          # Prints complete string\n",
    "print sample[0]       # Prints first character of the string\n",
    "print sample[2:5]     # Prints characters starting from 3rd to 5th\n",
    "print sample[2:]      # Prints string starting from 3rd character\n",
    "print sample * 2      # Prints string two times\n",
    "print sample + \"TEST\" # Prints concatenated string"
   ]
  },
  {
   "cell_type": "markdown",
   "metadata": {},
   "source": [
    "## Python Lists\n",
    "\n",
    "Lists are the most versatile of Python's compound data types. A list contains items separated by commas and enclosed within square brackets ([]). To some extent, lists are similar to arrays in C. One difference between them is that all the items belonging to a list can be of different data type."
   ]
  },
  {
   "cell_type": "code",
   "execution_count": 7,
   "metadata": {},
   "outputs": [
    {
     "name": "stdout",
     "output_type": "stream",
     "text": [
      "['abcd', 786, 2.23, 'john', 70.2]\n",
      "abcd\n",
      "[786, 2.23]\n",
      "[2.23, 'john', 70.2]\n",
      "[123, 'john', 123, 'john']\n",
      "['abcd', 786, 2.23, 'john', 70.2, 123, 'john']\n"
     ]
    }
   ],
   "source": [
    "list = [ 'abcd', 786 , 2.23, 'john', 70.2 ]\n",
    "tinylist = [123, 'john']\n",
    "\n",
    "print list          # Prints complete list\n",
    "print list[0]       # Prints first element of the list\n",
    "print list[1:3]     # Prints elements starting from 2nd till 4th \n",
    "print list[2:]      # Prints elements starting from 3rd element\n",
    "print tinylist * 2  # Prints list two times\n",
    "print list + tinylist # Prints concatenated lists"
   ]
  },
  {
   "cell_type": "markdown",
   "metadata": {},
   "source": [
    "## Python tuples\n",
    "\n",
    "A tuple is another sequence data type that is similar to the list. A tuple consists of a number of values separated by commas. Unlike lists, however, tuples are enclosed within parentheses ().\n",
    "\n",
    "Tuples are read-only lists. They cannot be updated."
   ]
  },
  {
   "cell_type": "code",
   "execution_count": 8,
   "metadata": {},
   "outputs": [
    {
     "name": "stdout",
     "output_type": "stream",
     "text": [
      "('abcd', 786, 2.23, 'john', 70.2)\n",
      "abcd\n",
      "(786, 2.23)\n",
      "(2.23, 'john', 70.2)\n",
      "(123, 'john', 123, 'john')\n",
      "('abcd', 786, 2.23, 'john', 70.2, 123, 'john')\n"
     ]
    }
   ],
   "source": [
    "tuple = ( 'abcd', 786 , 2.23, 'john', 70.2  )\n",
    "tinytuple = (123, 'john')\n",
    "\n",
    "print tuple           # Prints complete list\n",
    "print tuple[0]        # Prints first element of the list\n",
    "print tuple[1:3]      # Prints elements starting from 2nd till 3rd \n",
    "print tuple[2:]       # Prints elements starting from 3rd element\n",
    "print tinytuple * 2   # Prints list two times\n",
    "print tuple + tinytuple # Prints concatenated lists"
   ]
  },
  {
   "cell_type": "markdown",
   "metadata": {},
   "source": [
    "## Python Dictionary\n",
    "\n",
    "Python's dictionaries are kind of hash table type. They work like associative arrays or hashes found in Perl and consist of key-value pairs. "
   ]
  },
  {
   "cell_type": "code",
   "execution_count": 9,
   "metadata": {},
   "outputs": [
    {
     "name": "stdout",
     "output_type": "stream",
     "text": [
      "This is one\n",
      "This is two\n",
      "{'dept': 'sales', 'code': 6734, 'name': 'john'}\n",
      "['dept', 'code', 'name']\n",
      "['sales', 6734, 'john']\n"
     ]
    }
   ],
   "source": [
    "dict = {}\n",
    "dict['one'] = \"This is one\"\n",
    "dict[2]     = \"This is two\"\n",
    "\n",
    "tinydict = {'name': 'john','code':6734, 'dept': 'sales'}\n",
    "\n",
    "\n",
    "print dict['one']       # Prints value for 'one' key\n",
    "print dict[2]           # Prints value for 2 key\n",
    "print tinydict          # Prints complete dictionary\n",
    "print tinydict.keys()   # Prints all the keys\n",
    "print tinydict.values() # Prints all the values"
   ]
  },
  {
   "cell_type": "markdown",
   "metadata": {},
   "source": [
    "## Types of Operator\n",
    "Python language supports the following types of operators.\n",
    "<ul>\n",
    "    <li>Arithmetic Operators</li>\n",
    "    <li>Comparison (Relational) Operators</li>\n",
    "    <li>Assignment Operators</li>\n",
    "    <li>Logical Operators</li>\n",
    "    <li>Bitwise Operators</li>\n",
    "    <li>Membership Operators</li>\n",
    "    <li>Identity Operators</li>\n",
    "<ul>"
   ]
  },
  {
   "cell_type": "markdown",
   "metadata": {},
   "source": [
    "## Python Arithmetic Operators"
   ]
  },
  {
   "cell_type": "code",
   "execution_count": 10,
   "metadata": {},
   "outputs": [
    {
     "name": "stdout",
     "output_type": "stream",
     "text": [
      "total = 30\n",
      "diff = 10\n",
      "product = 200\n",
      "quotient = 2\n",
      "remainder = 0\n",
      "exponential = 9\n"
     ]
    }
   ],
   "source": [
    "a = 20\n",
    "b = 10\n",
    "\n",
    "total = a + b\n",
    "diff = a - b\n",
    "product = a * b\n",
    "quotient = a / b\n",
    "rem = a % b\n",
    "exp = 3 ** 2\n",
    "\n",
    "print \"total = \" + str(total)\n",
    "print \"diff = \" + str(diff)\n",
    "print \"product = \" + str(product)\n",
    "print \"quotient = \" + str(quotient)\n",
    "print \"remainder = \" + str(rem)\n",
    "print \"exponential = \" + str(exp)"
   ]
  },
  {
   "cell_type": "markdown",
   "metadata": {},
   "source": [
    "## Python Comparison Operators"
   ]
  },
  {
   "cell_type": "code",
   "execution_count": 15,
   "metadata": {},
   "outputs": [
    {
     "name": "stdout",
     "output_type": "stream",
     "text": [
      "False\n",
      "True\n",
      "True\n"
     ]
    }
   ],
   "source": [
    "print 20 < 10\n",
    "print 20 == 20\n",
    "print 20 > 5"
   ]
  },
  {
   "cell_type": "code",
   "execution_count": 28,
   "metadata": {},
   "outputs": [
    {
     "name": "stdout",
     "output_type": "stream",
     "text": [
      "a = 60\n",
      "b = 0b1101\n",
      "0b1100\n",
      "0b111101\n",
      "0b110001\n"
     ]
    }
   ],
   "source": [
    "a = int('00111100', 2) # a = 60\n",
    "print \"a = \" + str(a)\n",
    "\n",
    "b = int('00001101', 2) # b = 13\n",
    "print \"b = \" + str(bin(b))\n",
    "\n",
    "bitwise_and = a&b\n",
    "bitwise_or = a|b\n",
    "binary_xor = a^b\n",
    "\n",
    "print str(bin(bitwise_and))\n",
    "print str(bin(bitwise_or))\n",
    "print str(bin(binary_xor))"
   ]
  },
  {
   "cell_type": "markdown",
   "metadata": {},
   "source": [
    "## Python Membership Operators\n",
    "\n",
    "Python’s membership operators test for membership in a sequence, such as strings, lists, or tuples. There are two membership operators:\n",
    "<ul>\n",
    "    <li>in</li>\n",
    "    <li>not in</li>\n",
    "</ul>"
   ]
  },
  {
   "cell_type": "code",
   "execution_count": 30,
   "metadata": {},
   "outputs": [
    {
     "name": "stdout",
     "output_type": "stream",
     "text": [
      "True\n",
      "False\n"
     ]
    }
   ],
   "source": [
    "x = 5\n",
    "y = [1, 2, 5]\n",
    "\n",
    "print x in y\n",
    "print x not in y"
   ]
  },
  {
   "cell_type": "markdown",
   "metadata": {},
   "source": [
    "## Python Identity Operators\n",
    "\n",
    "Identity operators compare the memory locations of two objects. There are two Identity operators:\n",
    "<ul>\n",
    "    <li>is</li>\n",
    "    <li>not is</li>\n",
    "</ul>"
   ]
  },
  {
   "cell_type": "code",
   "execution_count": 31,
   "metadata": {},
   "outputs": [
    {
     "name": "stdout",
     "output_type": "stream",
     "text": [
      "True\n",
      "False\n"
     ]
    }
   ],
   "source": [
    "a = 20\n",
    "b = 20\n",
    "\n",
    "print a is b\n",
    "print a is not b"
   ]
  },
  {
   "cell_type": "code",
   "execution_count": null,
   "metadata": {},
   "outputs": [],
   "source": []
  }
 ],
 "metadata": {
  "kernelspec": {
   "display_name": "Python 2 (Intel, 2018 update 2)",
   "language": "python",
   "name": "intel_distribution_of_python_2_2018u2"
  },
  "language_info": {
   "codemirror_mode": {
    "name": "ipython",
    "version": 2
   },
   "file_extension": ".py",
   "mimetype": "text/x-python",
   "name": "python",
   "nbconvert_exporter": "python",
   "pygments_lexer": "ipython2",
   "version": "2.7.14"
  }
 },
 "nbformat": 4,
 "nbformat_minor": 2
}

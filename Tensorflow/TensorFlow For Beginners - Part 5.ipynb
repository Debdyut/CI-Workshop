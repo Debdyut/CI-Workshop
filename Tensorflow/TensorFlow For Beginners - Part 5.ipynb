{
 "cells": [
  {
   "cell_type": "markdown",
   "metadata": {},
   "source": [
    "## TTensorFlow For Beginners - Part 5\n",
    "\n",
    "# Math Operations\n",
    "\n",
    "We have already looked at the basic structure of a tensorflow program and discussed a bit about tensors in the previous lessons. In this tutorial, we will delve a bit more into mathematical operations supported in tensorflow. In the early lessons, we have been already introduced to the addition operation. \n",
    "\n",
    "Complete list of mathematical opeations can be viewed <a href=https://www.tensorflow.org/api_guides/python/math_ops target=blank>here</a>. In this tutorial, we will look at some common and important ones only."
   ]
  },
  {
   "cell_type": "markdown",
   "metadata": {},
   "source": [
    "### Arithmetic Operations\n",
    "\n",
    "Most basic operations are addition, substration, mulitplication and division. Let us see an how to implement these operations."
   ]
  },
  {
   "cell_type": "code",
   "execution_count": 1,
   "metadata": {},
   "outputs": [
    {
     "name": "stdout",
     "output_type": "stream",
     "text": [
      "Operands: 6, 3\n",
      "\n",
      "Sum = 9\n",
      "\n",
      "Difference = 3\n",
      "\n",
      "Product = 18\n",
      "\n",
      "Quotient = 2\n",
      "\n"
     ]
    }
   ],
   "source": [
    "import tensorflow as tf\n",
    "\n",
    "# Creating a custom method to evaluate and print result of tensors\n",
    "def run(tensor):\n",
    "    with tf.Session() as sess:\n",
    "        print(sess.run(tensor))\n",
    "        print()\n",
    "\n",
    "# Defining 2 constants\n",
    "a = tf.constant(6, name='a')\n",
    "b = tf.constant(3, name='b')\n",
    "print(\"Operands: 6, 3\", end = \"\\n\\n\")\n",
    "\n",
    "# Addition\n",
    "total = tf.add(a, b, name=\"total\")\n",
    "print(\"Sum = \", end=\"\")\n",
    "run(total)\n",
    "\n",
    "# Substraction\n",
    "diff = tf.subtract(a, b, name=\"diff\")\n",
    "print(\"Difference = \", end=\"\")\n",
    "run(diff)\n",
    "\n",
    "# Multiply \n",
    "product = tf.multiply(a, b, name=\"product\")\n",
    "print(\"Product = \", end=\"\")\n",
    "run(product)\n",
    "\n",
    "# Division\n",
    "quotient = tf.div(a, b, name=\"quotient\")\n",
    "print(\"Quotient = \", end=\"\")\n",
    "run(quotient)"
   ]
  },
  {
   "cell_type": "markdown",
   "metadata": {},
   "source": [
    "### Basic Math Operations\n",
    "\n",
    "Often we require to perform some basic operations like power, root, exponential, trigonometric operations, etc. A number of basic mathematic functions are available in tensorflow. Lets look at some of them."
   ]
  },
  {
   "cell_type": "code",
   "execution_count": 2,
   "metadata": {},
   "outputs": [
    {
     "name": "stdout",
     "output_type": "stream",
     "text": [
      "1) 2^5 = 32\n",
      "\n",
      "2) Square root of 64 = 8.0\n",
      "\n",
      "3) Sine of PI / 2 is 1.0\n",
      "\n",
      "4) Ceil value for 25.6 = 26.0\n",
      "\n",
      "5) Floor value for 25.6 = 25.0\n",
      "\n",
      "6) Log of 1 = 0.0\n",
      "\n",
      "7) Exp(1) = 2.71828\n",
      "\n"
     ]
    }
   ],
   "source": [
    "# Power\n",
    "power = tf.pow(2, 5)\n",
    "print(\"1) 2^5 = \", end=\"\")\n",
    "run(power)\n",
    "\n",
    "# Square root\n",
    "sqrt = tf.sqrt(64.00)  # tf.sqrt function does not work on integer types\n",
    "print(\"2) Square root of 64 = \", end=\"\")\n",
    "run(sqrt)\n",
    "\n",
    "# Sine\n",
    "PI = 3.14\n",
    "sin = tf.sin(PI / 2)  \n",
    "print(\"3) Sine of PI / 2 is \", end=\"\")\n",
    "run(sin)\n",
    "\n",
    "# Ceil\n",
    "ceil = tf.ceil(25.6)\n",
    "print(\"4) Ceil value for 25.6 = \", end=\"\")\n",
    "run(ceil)\n",
    "\n",
    "# Floor\n",
    "floor = tf.floor(25.6)\n",
    "print(\"5) Floor value for 25.6 = \", end=\"\")\n",
    "run(floor)\n",
    "\n",
    "# Log\n",
    "log = tf.log(1.0)\n",
    "print(\"6) Log of 1 = \", end=\"\")\n",
    "run(log)\n",
    "\n",
    "# Exponential\n",
    "exp = tf.exp(1.0)\n",
    "print(\"7) Exp(1) = \", end=\"\")\n",
    "run(exp)"
   ]
  },
  {
   "cell_type": "markdown",
   "metadata": {},
   "source": [
    "### Matrix Operations\n",
    "\n",
    "Tensors may not necessarily be constant always, but may be in the form of n-dimensional matrices as we will observe in future tutorials. Tensor supports a number of matrix operations. Important ones are shown below."
   ]
  },
  {
   "cell_type": "code",
   "execution_count": 3,
   "metadata": {},
   "outputs": [
    {
     "name": "stdout",
     "output_type": "stream",
     "text": [
      "Matrix 1:\n",
      "[[1 2]\n",
      " [3 4]]\n",
      "\n",
      "Transposing matrix 1:\n",
      "[[1 3]\n",
      " [2 4]]\n",
      "\n",
      "Matrix 2 is initialized as an identity matrix:\n",
      "[[1 0]\n",
      " [0 1]]\n",
      "\n",
      "Multiplying matrix 1 & 2:\n",
      "[[1 2]\n",
      " [3 4]]\n",
      "\n"
     ]
    }
   ],
   "source": [
    "#  Defining a matrix\n",
    "m1 = tf.constant([[1, 2], [3, 4]])\n",
    "print(\"Matrix 1:\")\n",
    "run(m1)\n",
    "\n",
    "# Transposing matrix 1\n",
    "trans_m1 = tf.transpose(m1)\n",
    "print(\"Transposing matrix 1:\")\n",
    "run(trans_m1)\n",
    "\n",
    "# Identity Matrix\n",
    "m2 = tf.eye(2, dtype=\"int32\") \n",
    "print(\"Matrix 2 is initialized as an identity matrix:\")\n",
    "run(m2)\n",
    "\n",
    "# Matrix Multiplication\n",
    "m_product = tf.matmul(m1, m2)\n",
    "print(\"Multiplying matrix 1 & 2:\")\n",
    "run(m_product)"
   ]
  }
 ],
 "metadata": {
  "kernelspec": {
   "display_name": "Python 3 (Intel, 2018 update 1)",
   "language": "python",
   "name": "intel_distribution_of_python_3_2018u1"
  },
  "language_info": {
   "codemirror_mode": {
    "name": "ipython",
    "version": 3
   },
   "file_extension": ".py",
   "mimetype": "text/x-python",
   "name": "python",
   "nbconvert_exporter": "python",
   "pygments_lexer": "ipython3",
   "version": "3.6.3"
  }
 },
 "nbformat": 4,
 "nbformat_minor": 2
}

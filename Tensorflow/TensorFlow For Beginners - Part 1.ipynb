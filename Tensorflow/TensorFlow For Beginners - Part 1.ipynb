{
 "cells": [
  {
   "cell_type": "markdown",
   "metadata": {},
   "source": [
    "# TensorFlow For Beginners - Part 1\n",
    "\n",
    "This guide will show you how to write a minimal tensorflow program. Usually tensorflow tutorials are quite bulky and difficult to follow. This guide will help you write a very basic tensorflow program while providing just the sufficient amount of information to understand the main parts of a tensorflow code.   \n",
    "\n",
    "This tutorial assumes you already have tensorflow installed in your computer. <br/>\n",
    "\n",
    "<b>Pre-requisites: </b> <br/>\n",
    "1) Familiarity with python programming <br/>\n",
    "2) Familiarity with jupyter notebook will be beneficial but not manadatory. <br/>\n",
    "\n",
    "## Introduction \n",
    "\n",
    "Tensorflow is a mathematics library which is available in python. It is being widely used for machine learning and especially deep learning. <br/>\n",
    "Being a mathematics library, it supports a lot of mathematical functions like addition, multiplication, etc. In this tutorial we will see how we can add 2 numbers.\n",
    "\n",
    "\n",
    "## Breakup of a tensorflow program\n",
    "\n",
    "A basic TensorFlow program has two primary sections: <br/>\n",
    "1) Building a computational graph. <br/>\n",
    "2) Running the computational graph. <br/>\n",
    "\n",
    "The mathematical functions are implemented as computation nodes of a graph as we shall see in the later portions of this guide. "
   ]
  },
  {
   "cell_type": "markdown",
   "metadata": {},
   "source": [
    "#### CAUTION!\n",
    "\n",
    "While executing the following codes in a python shell you may receive a warning, which says something like: <br/>\n",
    "<b>The TensorFlow library wasn't compiled to use SSE4.1 instructions, but these are available on your machine and could speed up CPU computations.</b> <br/>\n",
    "Such warnings may ultimately lead to abortion of execution of code. To prevent such a situation we would append a magic statement such as the follows. "
   ]
  },
  {
   "cell_type": "code",
   "execution_count": 1,
   "metadata": {},
   "outputs": [],
   "source": [
    "import os\n",
    "os.environ['TF_CPP_MIN_LOG_LEVEL']='2'"
   ]
  },
  {
   "cell_type": "markdown",
   "metadata": {},
   "source": [
    "#### Importing Tensorflow\n",
    "\n",
    "To use the tensorflow we have to first import the library."
   ]
  },
  {
   "cell_type": "code",
   "execution_count": 2,
   "metadata": {},
   "outputs": [],
   "source": [
    "# We would refer to it as 'tf', short for tensorflow, for our ease of coding. \n",
    "import tensorflow as tf"
   ]
  },
  {
   "cell_type": "markdown",
   "metadata": {},
   "source": [
    "## Adding two numbers using tensorflow\n",
    "\n",
    "Let us start with a basic addition operation. We will add two 'constants' say 3 and 5 and output the result. \n",
    "\n",
    "<p> As said earlier, first we have to construct a computation graph by defining each of its compute node. "
   ]
  },
  {
   "cell_type": "code",
   "execution_count": 3,
   "metadata": {},
   "outputs": [
    {
     "name": "stdout",
     "output_type": "stream",
     "text": [
      "Tensor(\"add:0\", shape=(), dtype=int32)\n"
     ]
    }
   ],
   "source": [
    "# Now we will use the add function to create a operation node in tensorflow to add the 2 numbers. \n",
    "total = tf.add(3, 5, name = 'add')\n",
    "\n",
    "# Lets look at the type of the node\n",
    "print(total)"
   ]
  },
  {
   "cell_type": "markdown",
   "metadata": {},
   "source": [
    "### Tensors\n",
    "Now this node is actually a tensor. TensorFlow programs use a tensor data structure to represent all data. In simplest terms, a tensor may be considered as an n-dimensional array. <br/>\n",
    "It has the following properties: <br/>\n",
    "1) rank i.e. the number of dimensions <br/>\n",
    "2) a data type (float32, int32, or string, for example) <br/>\n",
    "3) shape <br/>\n",
    "Later we will delve deeper into the details of a tensor. For the time being lets concentrate on the above result. \n",
    "\n",
    "<p>\n",
    "The above output reveals the properties of the tensor. The following information can be retreived from this result: <br/>\n",
    "1) The name of the tensor is 'add'. <br/>\n",
    "2) 0 is an output index and can be ignored for this tutorial. <br/>\n",
    "3) It has no shape as it is just a single scalar quantity. <br/>\n",
    "4) The datatype of the element in the tensor is int32. In simple terms, it is a 32 bits signed integer. <br/>\n",
    "</p>"
   ]
  },
  {
   "cell_type": "markdown",
   "metadata": {},
   "source": [
    "### Session\n",
    "\n",
    "A tf.Session object provides the client program access to the C++ runtime. It also caches information about your tf.Graph so that you can efficiently run the same computation multiple times. <br/>\n",
    "\n",
    "In simple terms, this is the section where your graph gets executed. But where is the graph? <br/>\n",
    "\n",
    "The computation node we just created gets appended to the default graph. Symbolically the graph looks like this:"
   ]
  },
  {
   "attachments": {
    "image.png": {
     "image/png": "[encoded data removed]"
    }
   },
   "cell_type": "markdown",
   "metadata": {},
   "source": [
    "![image.png](attachment:image.png)"
   ]
  },
  {
   "cell_type": "code",
   "execution_count": 4,
   "metadata": {},
   "outputs": [
    {
     "name": "stdout",
     "output_type": "stream",
     "text": [
      "8\n"
     ]
    }
   ],
   "source": [
    "with tf.Session() as sess:\n",
    "    print(sess.run(total))"
   ]
  },
  {
   "cell_type": "markdown",
   "metadata": {},
   "source": [
    "Here the 'sess' variable refers to the session. "
   ]
  },
  {
   "cell_type": "markdown",
   "metadata": {},
   "source": [
    "## Conclusion\n",
    "\n",
    "This was a simple program of addition using TensorFlow. In the upcoming tutorial, we will delve a lot deeper into the elements of a tensorflow program.  <br/>\n",
    "\n",
    "## Final Code"
   ]
  },
  {
   "cell_type": "code",
   "execution_count": 5,
   "metadata": {},
   "outputs": [
    {
     "name": "stdout",
     "output_type": "stream",
     "text": [
      "8\n"
     ]
    }
   ],
   "source": [
    "import tensorflow as tf\n",
    "\n",
    "total = tf.add(3, 5, 'total')\n",
    "\n",
    "with tf.Session() as sess:\n",
    "    print(sess.run(total))"
   ]
  }
 ],
 "metadata": {
  "kernelspec": {
   "display_name": "Python 3 (Intel, 2018 update 1)",
   "language": "python",
   "name": "intel_distribution_of_python_3_2018u1"
  },
  "language_info": {
   "codemirror_mode": {
    "name": "ipython",
    "version": 3
   },
   "file_extension": ".py",
   "mimetype": "text/x-python",
   "name": "python",
   "nbconvert_exporter": "python",
   "pygments_lexer": "ipython3",
   "version": "3.6.3"
  }
 },
 "nbformat": 4,
 "nbformat_minor": 2
}

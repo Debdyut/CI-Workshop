{
 "cells": [
  {
   "cell_type": "markdown",
   "metadata": {},
   "source": [
    "# TensorFlow For Beginners - Part 4\n",
    "\n",
    "In the previous tutorial we have already seen how we can use define and use tensorflow constants. There are a number of special tensorflow constants which we are going to explore in this tutorial. But before that let us have a small refresher of defining a tensorflow constant. \n",
    "\n",
    "### tf.constant\n",
    "\n",
    "\n",
    "<b>Syntax for defining a tensorflow constant:</b> <br/>\n",
    "tf.constant(value, dtype=None, shape=None, name='Const', verify_shape=False)"
   ]
  },
  {
   "cell_type": "code",
   "execution_count": 1,
   "metadata": {},
   "outputs": [],
   "source": [
    "import tensorflow as tf\n",
    "\n",
    "# constant of 1d tensor (vector)\n",
    "a = tf.constant([2, 2], name=\"vector\")\n",
    "\n",
    "# constant of 2x2 tensor (matrix)\n",
    "b = tf.constant([[0, 1], [2, 3]], name=\"matrix\")"
   ]
  },
  {
   "cell_type": "markdown",
   "metadata": {},
   "source": [
    "## 1. Constant Value Tensors\n",
    "\n",
    "TensorFlow provides several operations that you can use to generate constants.\n",
    "\n",
    "<ol>\n",
    "<li>tf.zeros </li>\n",
    "<li>tf.zeros_like </li>\n",
    "<li>tf.ones </li>\n",
    "<li>tf.ones_like </li>\n",
    "<li>tf.fill </li>\n",
    "<li>tf.constant </li>\n",
    "<ol>"
   ]
  },
  {
   "cell_type": "markdown",
   "metadata": {},
   "source": [
    "### i) tf.zeros\n",
    "\n",
    "Creates a tensor with all elements set to zero.\n",
    "\n",
    "<b>Syntax:</b> <br />\n",
    "tf.zeros(shape, dtype, name)\n",
    "\n",
    "<b>Args:</b>\n",
    "<ul>\n",
    "<li><b>shape:</b> A list of integers, a tuple of integers, or a 1-D Tensor of type int32. </li> \n",
    "<li><b>dtype:</b> The type of an element in the resulting Tensor. </li>\n",
    "<li><b>name:</b> A name for the operation (optional). </li>\n",
    "</ul>"
   ]
  },
  {
   "cell_type": "code",
   "execution_count": 2,
   "metadata": {},
   "outputs": [
    {
     "name": "stdout",
     "output_type": "stream",
     "text": [
      "Shape of the tensor: (2, 3)\n",
      "Generated tensor:\n",
      "[[0 0 0]\n",
      " [0 0 0]]\n"
     ]
    }
   ],
   "source": [
    "# create a tensor of shape and all elements are zeros\n",
    "x = tf.zeros([2, 3], tf.int32)\n",
    "\n",
    "print(\"Shape of the tensor: \" + str(x.shape))\n",
    "print(\"Generated tensor:\")\n",
    "with tf.Session() as sess:\n",
    "    print(sess.run(x))"
   ]
  },
  {
   "cell_type": "markdown",
   "metadata": {},
   "source": [
    "### ii) tf.zeros_like\n",
    "\n",
    "Creates a tensor with all elements set to zero.\n",
    "\n",
    "Given a single tensor (tensor), this operation returns a tensor of the same type and shape as tensor with all elements set to zero. Optionally, you can use dtype to specify a new type for the returned tensor.\n",
    "\n",
    "<b>Syntax:</b> <br />\n",
    "tf.zeros_like(\n",
    "    tensor,\n",
    "    dtype=None,\n",
    "    name=None,\n",
    "    optimize=True\n",
    ")\n",
    "\n",
    "<b>Args:</b> <br/>\n",
    "<ul>\n",
    "<li><b>tensor:</b> A Tensor. </li>\n",
    "<li><b>dtype:</b> A type for the returned Tensor. Must be float16, float32, float64, int8, uint8, int16, uint16, int32, int64, complex64, complex128, bool or string. </li>\n",
    "<li><b>name:</b> A name for the operation (optional). </li>\n",
    "<li><b>optimize:</b> if true, attempt to statically determine the shape of 'tensor' and encode it as a constant. </li>\n",
    "</ul>"
   ]
  },
  {
   "cell_type": "code",
   "execution_count": 3,
   "metadata": {},
   "outputs": [
    {
     "name": "stdout",
     "output_type": "stream",
     "text": [
      "Shape of the tensor: (3, 2)\n",
      "Generated tensor:\n",
      "[[0 0]\n",
      " [0 0]\n",
      " [0 0]]\n"
     ]
    }
   ],
   "source": [
    "input_tensor = tf.Variable([[0, 1], [2, 3], [4, 5]])\n",
    "\n",
    "y = tf.zeros_like(input_tensor)\n",
    "\n",
    "print(\"Shape of the tensor: \" + str(y.shape))\n",
    "print(\"Generated tensor:\")\n",
    "with tf.Session() as sess:\n",
    "    print(sess.run(y))"
   ]
  },
  {
   "cell_type": "markdown",
   "metadata": {},
   "source": [
    "### iii) tf.ones\n",
    "\n",
    "Creates a tensor with all elements set to 1.\n",
    "\n",
    "<b>Syntax:</b> <br />\n",
    "tf.ones(\n",
    "    shape,\n",
    "    dtype=tf.float32,\n",
    "    name=None\n",
    ")\n",
    "\n",
    "\n",
    "<b>Args:</b>\n",
    "<ul>\n",
    "<li><b>shape:</b> A list of integers, a tuple of integers, or a 1-D Tensor of type int32. </li> \n",
    "<li><b>dtype:</b> The type of an element in the resulting Tensor. </li>\n",
    "<li><b>name:</b> A name for the operation (optional). </li>\n",
    "</ul>"
   ]
  },
  {
   "cell_type": "code",
   "execution_count": 4,
   "metadata": {},
   "outputs": [
    {
     "name": "stdout",
     "output_type": "stream",
     "text": [
      "Shape of the tensor: (2, 3)\n",
      "Generated tensor:\n",
      "[[1 1 1]\n",
      " [1 1 1]]\n"
     ]
    }
   ],
   "source": [
    "x1 = tf.ones([2, 3], tf.int32)\n",
    "\n",
    "print(\"Shape of the tensor: \" + str(x1.shape))\n",
    "print(\"Generated tensor:\")\n",
    "with tf.Session() as sess:\n",
    "    print(sess.run(x1))"
   ]
  },
  {
   "cell_type": "markdown",
   "metadata": {},
   "source": [
    "### iv) tf.ones_like\n",
    "\n",
    "Creates a tensor with all elements set to 1.\n",
    "\n",
    "Given a single tensor (tensor), this operation returns a tensor of the same type and shape as tensor with all elements set to 1. Optionally, you can specify a new type (dtype) for the returned tensor.\n",
    "\n",
    "<b>Syntax:</b> <br />\n",
    "tf.ones_like(\n",
    "    tensor,\n",
    "    dtype=None,\n",
    "    name=None,\n",
    "    optimize=True\n",
    ")\n",
    "\n",
    "<b>Args:</b> <br/>\n",
    "<ul>\n",
    "<li><b>tensor:</b> A Tensor. </li>\n",
    "<li><b>dtype:</b> A type for the returned Tensor. Must be float16, float32, float64, int8, uint8, int16, uint16, int32, int64, complex64, complex128, bool or string. </li>\n",
    "<li><b>name:</b> A name for the operation (optional). </li>\n",
    "<li><b>optimize:</b> if true, attempt to statically determine the shape of 'tensor' and encode it as a constant. </li>\n",
    "</ul>"
   ]
  },
  {
   "cell_type": "code",
   "execution_count": 5,
   "metadata": {},
   "outputs": [
    {
     "name": "stdout",
     "output_type": "stream",
     "text": [
      "Shape of the tensor: (3, 2)\n",
      "Generated tensor:\n",
      "[[1 1]\n",
      " [1 1]\n",
      " [1 1]]\n"
     ]
    }
   ],
   "source": [
    "input_tensor = tf.Variable([[0, 1], [2, 3], [4, 5]])\n",
    "y1 = tf.ones_like(input_tensor)\n",
    "\n",
    "print(\"Shape of the tensor: \" + str(y1.shape))\n",
    "print(\"Generated tensor:\")\n",
    "with tf.Session() as sess:\n",
    "    print(sess.run(y1))"
   ]
  },
  {
   "cell_type": "markdown",
   "metadata": {},
   "source": [
    "### v) tf.fill\n",
    "\n",
    "Creates a tensor filled with a scalar value.\n",
    "\n",
    "This operation creates a tensor of shape dims and fills it with value.\n",
    "\n",
    "<b>Syntax:</b> <br />\n",
    "tf.fill(\n",
    "    dims,\n",
    "    value,\n",
    "    name=None\n",
    ") \n",
    "\n",
    "<b>Args:</b>\n",
    "<ul>\n",
    "<li><b>dims:</b> A Tensor. Must be one of the following types: int32, int64. 1-D. Represents the shape of the output tensor. </li> \n",
    "<li><b>value:</b>  A Tensor. 0-D (scalar). Value to fill the returned tensor. </li>\n",
    "<li><b>name:</b> A name for the operation (optional). </li>\n",
    "</ul>"
   ]
  },
  {
   "cell_type": "code",
   "execution_count": 6,
   "metadata": {},
   "outputs": [
    {
     "name": "stdout",
     "output_type": "stream",
     "text": [
      "Shape of the tensor: (2, 3)\n",
      "Generated tensor:\n",
      "[[8 8 8]\n",
      " [8 8 8]]\n"
     ]
    }
   ],
   "source": [
    "x8 = tf.fill([2, 3], 8) \n",
    "\n",
    "print(\"Shape of the tensor: \" + str(x8.shape))\n",
    "print(\"Generated tensor:\")\n",
    "with tf.Session() as sess:\n",
    "    print(sess.run(x8))"
   ]
  },
  {
   "cell_type": "markdown",
   "metadata": {},
   "source": [
    "## 2. Sequences\n",
    "\n",
    "Often it is required to create a sequence of numbers. There are a couple of ways to create sequences using tensorflow. They are:\n",
    "\n",
    "<ul>\n",
    "<li>tf.linspace </li>\n",
    "<li>tf.range </li>\n",
    "</ul>"
   ]
  },
  {
   "cell_type": "markdown",
   "metadata": {},
   "source": [
    "### i) tf.linspace\n",
    "\n",
    "Generates values in an interval.\n",
    "\n",
    "A sequence of num evenly-spaced values are generated beginning at start. If num > 1, the values in the sequence increase by stop - start / num - 1, so that the last one is exactly stop.\n",
    "\n",
    "<b>Syntax:</b> <br />\n",
    "tf.lin_space(\n",
    "    start,\n",
    "    stop,\n",
    "    num,\n",
    "    name=None\n",
    ")\n",
    "\n",
    "<b>Args: </b> \n",
    "<ul>\n",
    "<li><b>start:</b> A Tensor. Must be one of the following types: bfloat16, float32, float64. First entry in the range. </li>\n",
    "<li><b>stop:</b> A Tensor. Must have the same type as start. Last entry in the range. </li>\n",
    "<li><b>num:</b> A Tensor. Must be one of the following types: int32, int64. Number of values to generate. </li>\n",
    "<li><b>name:</b> A name for the operation (optional). </li>\n",
    "</ul>"
   ]
  },
  {
   "cell_type": "code",
   "execution_count": 7,
   "metadata": {},
   "outputs": [
    {
     "name": "stdout",
     "output_type": "stream",
     "text": [
      "Generated tensor:\n",
      "[ 10.  11.  12.  13.]\n"
     ]
    }
   ],
   "source": [
    "xl = tf.lin_space(10.0, 13.0, 4, name=\"linspace\")\n",
    "\n",
    "print(\"Generated tensor:\")\n",
    "with tf.Session() as sess:\n",
    "    print(sess.run(xl))"
   ]
  },
  {
   "cell_type": "markdown",
   "metadata": {},
   "source": [
    "### ii) tf.range\n",
    "\n",
    "Creates a sequence of numbers.\n",
    "\n",
    "Creates a sequence of numbers that begins at start and extends by increments of delta up to but not including limit.\n",
    "\n",
    "The dtype of the resulting tensor is inferred from the inputs unless it is provided explicitly.\n",
    "\n",
    "Like the Python builtin range, start defaults to 0, so that range(n) = range(0, n)\n",
    "\n",
    "<b>Syntax:</b> <br />\n",
    "tf.range([start], limit=None, delta=1, dtype=None, name='range')\n",
    "\n",
    "<b>Args:</b>\n",
    "<ul>\n",
    "<li><b>start:</b> A 0-D Tensor (scalar). Acts as first entry in the range if limit is not None; otherwise, acts as range limit and first entry defaults to 0. </li>\n",
    "<li><b>limit:</b> A 0-D Tensor (scalar). Upper limit of sequence, exclusive. If None, defaults to the value of start while the first entry of the range defaults to 0. </li>\n",
    "<li><b>delta:</b> A 0-D Tensor (scalar). Number that increments start. Defaults to 1. </li>\n",
    "<li><b>dtype:</b> The type of the elements of the resulting tensor.\n",
    "<li><b>name:</b> A name for the operation. Defaults to \"range\". </li>\n",
    "</ul>"
   ]
  },
  {
   "cell_type": "code",
   "execution_count": 8,
   "metadata": {},
   "outputs": [
    {
     "name": "stdout",
     "output_type": "stream",
     "text": [
      "[ 3  6  9 12 15]\n"
     ]
    }
   ],
   "source": [
    "# 'start' is 3, 'limit' is 18, 'delta' is 3\n",
    "xr1 = tf.range(start=3, limit=18, delta=3)\n",
    "\n",
    "with tf.Session() as sess:\n",
    "    print(sess.run(xr1))"
   ]
  },
  {
   "cell_type": "code",
   "execution_count": 9,
   "metadata": {},
   "outputs": [
    {
     "name": "stdout",
     "output_type": "stream",
     "text": [
      "[ 3.   2.5  2.   1.5]\n"
     ]
    }
   ],
   "source": [
    "# 'start' is 3, 'limit' is 1,  'delta' is -0.5\n",
    "xr2 = tf.range(start=3, limit=1, delta=-0.5)\n",
    "\n",
    "with tf.Session() as sess:\n",
    "    print(sess.run(xr2))"
   ]
  },
  {
   "cell_type": "code",
   "execution_count": 10,
   "metadata": {},
   "outputs": [
    {
     "name": "stdout",
     "output_type": "stream",
     "text": [
      "[0 1 2 3 4]\n"
     ]
    }
   ],
   "source": [
    "# 'limit' is 5\n",
    "xr3 = tf.range(start=0, limit=5) \n",
    "\n",
    "with tf.Session() as sess:\n",
    "    print(sess.run(xr3))"
   ]
  },
  {
   "cell_type": "markdown",
   "metadata": {},
   "source": [
    "Note that unlike NumPy or Python sequences, TensorFlow sequences are not iterable.\n",
    "\n",
    "for _ in np.linspace(0, 10, 4): # OK <br />\n",
    "for _ in tf.linspace(0.0, 10.0, 4): # TypeError: 'Tensor' object is not iterable.\n",
    "\n",
    "for _ in range(4): # OK <br />\n",
    "for _ in tf.range(4): # TypeError: 'Tensor' object is not iterable."
   ]
  },
  {
   "cell_type": "markdown",
   "metadata": {},
   "source": [
    "## Random Tensors\n",
    "\n",
    "TensorFlow has several ops that create random tensors with different distributions. The random ops are stateful, and create new random values each time they are evaluated.\n",
    "\n",
    "Tensorflow functions related to random variables: <br />\n",
    "<ul>\n",
    "<li>tf.random_normal</li>\n",
    "<li>tf.truncated_normal</li>\n",
    "<li>tf.random_uniform</li>\n",
    "<li>tf.random_shuffle</li>\n",
    "<li>tf.random_crop</li>\n",
    "<li>tf.multinomial</li>\n",
    "<li>tf.random_gamma</li>\n",
    "<li>tf.set_random_seed</li>\n",
    "</ul>"
   ]
  },
  {
   "cell_type": "markdown",
   "metadata": {},
   "source": [
    "### i) tf.random_normal\n",
    "\n",
    "Outputs random values from a normal distribution.\n",
    "\n",
    "<b>Syntax:</b> <br />\n",
    "tf.random_normal(\n",
    "    shape,\n",
    "    mean=0.0,\n",
    "    stddev=1.0,\n",
    "    dtype=tf.float32,\n",
    "    seed=None,\n",
    "    name=None\n",
    ")\n",
    "\n",
    "<b>Args:</b>\n",
    "<ul>\n",
    "<li><b>shape:</b> A 1-D integer Tensor or Python array. The shape of the output tensor. </li>\n",
    "<li><b>mean:</b> A 0-D Tensor or Python value of type dtype. The mean of the normal distribution. </li>\n",
    "<li><b>stddev:</b> A 0-D Tensor or Python value of type dtype. The standard deviation of the normal distribution. </li>\n",
    "<li><b>dtype:</b> The type of the output. </li>\n",
    "<li><b>seed:</b> A Python integer. Used to create a random seed for the distribution. See tf.set_random_seed for behavior. </li>\n",
    "<li><b>name:</b> A name for the operation (optional). </li>\n",
    "</ul>"
   ]
  },
  {
   "cell_type": "code",
   "execution_count": 11,
   "metadata": {},
   "outputs": [
    {
     "name": "stdout",
     "output_type": "stream",
     "text": [
      "[[-2.3414371  -3.90156507 -8.00475979]\n",
      " [ 1.05753756  5.37654781  2.45767188]]\n"
     ]
    }
   ],
   "source": [
    "# Creates a tensor of shape [2, 3] consisting of random normal values, with mean -1 and standard deviation 4.\n",
    "norm = tf.random_normal([2, 3], mean=0, stddev=4)\n",
    "\n",
    "sess = tf.Session()\n",
    "\n",
    "print(sess.run(norm))"
   ]
  },
  {
   "cell_type": "markdown",
   "metadata": {},
   "source": [
    "### ii) tf.truncated_normal\n",
    "\n",
    "The generated values follow a normal distribution with specified mean and standard deviation, except that values whose magnitude is more than 2 standard deviations from the mean are dropped and re-picked.\n",
    "\n",
    "<b>Syntax:</b> <br />\n",
    "tf.truncated_normal(\n",
    "    shape,\n",
    "    mean=0.0,\n",
    "    stddev=1.0,\n",
    "    dtype=tf.float32,\n",
    "    seed=None,\n",
    "    name=None\n",
    ")\n",
    "\n",
    "<b>Args:</b>\n",
    "<ul>\n",
    "<li><b>shape:</b> A 1-D integer Tensor or Python array. The shape of the output tensor. </li>\n",
    "<li><b>mean:</b> A 0-D Tensor or Python value of type dtype. The mean of the normal distribution. </li>\n",
    "<li><b>stddev:</b> A 0-D Tensor or Python value of type dtype. The standard deviation of the normal distribution. </li>\n",
    "<li><b>dtype:</b> The type of the output. </li>\n",
    "<li><b>seed:</b> A Python integer. Used to create a random seed for the distribution. </li>\n",
    "<li><b>name:</b> A name for the operation (optional). </li>\n",
    "</ul>"
   ]
  },
  {
   "cell_type": "code",
   "execution_count": 12,
   "metadata": {},
   "outputs": [
    {
     "name": "stdout",
     "output_type": "stream",
     "text": [
      "[[-5.75319242 -2.61664414  1.20292735]\n",
      " [-5.00987387  2.29421329  2.2856915 ]]\n"
     ]
    }
   ],
   "source": [
    "tnorm = tf.truncated_normal([2, 3], mean=0, stddev=4)\n",
    "\n",
    "print(sess.run(tnorm))"
   ]
  },
  {
   "cell_type": "markdown",
   "metadata": {},
   "source": [
    "<b>Note:</b>\n",
    "To understand the difference between tf.truncated_normal and tf.random_normal please follow this <a href=https://stackoverflow.com/questions/41704484/what-is-difference-between-tf-truncated-normal-and-tf-random-normal target=blank>thread</a> in stack overflow."
   ]
  }
 ],
 "metadata": {
  "kernelspec": {
   "display_name": "Python 3 (Intel, 2018 update 1)",
   "language": "python",
   "name": "intel_distribution_of_python_3_2018u1"
  },
  "language_info": {
   "codemirror_mode": {
    "name": "ipython",
    "version": 3
   },
   "file_extension": ".py",
   "mimetype": "text/x-python",
   "name": "python",
   "nbconvert_exporter": "python",
   "pygments_lexer": "ipython3",
   "version": "3.6.3"
  }
 },
 "nbformat": 4,
 "nbformat_minor": 2
}

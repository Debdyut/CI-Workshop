{
 "cells": [
  {
   "cell_type": "markdown",
   "metadata": {},
   "source": [
    "## TensorFlow For Beginners - Part 3\n",
    "\n",
    "We have already gained a brief overview of a tensorflow program. In this tutorial we are going to take a closer look at tensors.  \n",
    "\n",
    "### Tensors\n",
    "\n",
    "A tensor is similar to vectors and matrices, but potentially have higher dimensions. Internally, TensorFlow represents tensors as n-dimensional arrays.\n",
    "\n",
    "First part of a tensorflow program deals with building a computation graph. Tensors act like the computation nodes of the graph. \n",
    "\n",
    "A tf.Tensor has the following properties:\n",
    "<ul>\n",
    "<li> a data type (float32, int32, or string, for example)\n",
    "<li> a shape\n",
    "</ul>\n",
    "\n",
    "Similar to arrays, each element in the Tensor has the same data type. The shape i.e. the dimensions of the tensor might be only partially known. "
   ]
  },
  {
   "cell_type": "markdown",
   "metadata": {},
   "source": [
    "### Rank of tensors\n",
    "\n",
    "The rank of a tf.Tensor object is its number of dimensions. Synonyms for rank include order or degree or n-dimension.\n",
    "\n",
    "|Rank|Math entity|\n",
    "|:---|:--:|\n",
    "|0|Scalar(magnitude only)|\n",
    "|1|Vector(magnitude and direction)|\n",
    "|2|Matrix(table of numbers)|\n",
    "|3|3-Tensor(cube of numbers)|\n",
    "|n|n-Tensor|\n",
    "\n",
    "Now let us look at a few examples. But before that let us import the tensorflow library and create a function that prints the rank of the tensor. "
   ]
  },
  {
   "cell_type": "code",
   "execution_count": 1,
   "metadata": {},
   "outputs": [],
   "source": [
    "import tensorflow as tf\n",
    "\n",
    "def get_rank(tensor):\n",
    "    rank = tf.rank(tensor)\n",
    "    \n",
    "    with tf.Session() as sess:\n",
    "        print(sess.run(rank))"
   ]
  },
  {
   "cell_type": "markdown",
   "metadata": {},
   "source": [
    "#### Rank 0"
   ]
  },
  {
   "cell_type": "code",
   "execution_count": 2,
   "metadata": {},
   "outputs": [
    {
     "name": "stdout",
     "output_type": "stream",
     "text": [
      "0\n"
     ]
    }
   ],
   "source": [
    "# All the below tensors have rank 0. tf.Variable also generate tensors. More on that later. \n",
    "mammal = tf.Variable(\"Elephant\")\n",
    "ignition = tf.Variable(451)\n",
    "floating = tf.Variable(3.14159265359)\n",
    "its_complicated = tf.Variable(12.3 - 4.85j)\n",
    "\n",
    "# Let us look at one example\n",
    "number = tf.constant(3)\n",
    "get_rank(number)"
   ]
  },
  {
   "cell_type": "markdown",
   "metadata": {},
   "source": [
    "#### Rank 1\n",
    "\n",
    "To create a rank 1 tf.Tensor object, you can pass a list of items as the initial value."
   ]
  },
  {
   "cell_type": "code",
   "execution_count": 3,
   "metadata": {},
   "outputs": [
    {
     "name": "stdout",
     "output_type": "stream",
     "text": [
      "1\n"
     ]
    }
   ],
   "source": [
    "# All the below tensors have rank 1.\n",
    "mystr = tf.Variable([\"Hello\"])\n",
    "cool_numbers  = tf.Variable([3.14159, 2.71828])\n",
    "first_primes = tf.Variable([2, 3, 5, 7, 11])\n",
    "its_very_complicated = tf.Variable([12.3 - 4.85j, 7.5 - 6.23j])\n",
    "\n",
    "# Let us look at an example\n",
    "lst = tf.constant([1,2,3,4,5])\n",
    "get_rank(lst)"
   ]
  },
  {
   "cell_type": "markdown",
   "metadata": {},
   "source": [
    "#### Rank 2\n",
    "\n",
    "A rank 2 tf.Tensor object consists of at least one row and at least one column:"
   ]
  },
  {
   "cell_type": "code",
   "execution_count": 4,
   "metadata": {},
   "outputs": [
    {
     "name": "stdout",
     "output_type": "stream",
     "text": [
      "2\n"
     ]
    }
   ],
   "source": [
    "mymat = tf.Variable([[7],[11]])\n",
    "myxor = tf.Variable([[False, True],[True, False]])\n",
    "linear_squares = tf.Variable([[4], [9], [16], [25]])\n",
    "mymatC = tf.Variable([[7],[11]])\n",
    "\n",
    "# Let us look at an example\n",
    "squarish_squares = tf.Variable([ [4, 9], [16, 25] ])\n",
    "get_rank(squarish_squares)"
   ]
  },
  {
   "cell_type": "markdown",
   "metadata": {},
   "source": [
    "#### Higher ranks\n",
    "\n",
    "Higher-rank Tensors, similarly, consist of an n-dimensional array. For example, during image processing, many tensors of rank 4 are used, with dimensions corresponding to example-in-batch, image width, image height, and color channel."
   ]
  },
  {
   "cell_type": "code",
   "execution_count": 5,
   "metadata": {},
   "outputs": [
    {
     "name": "stdout",
     "output_type": "stream",
     "text": [
      "4\n"
     ]
    }
   ],
   "source": [
    "my_image = tf.zeros([10, 299, 299, 3])  # batch_size x height x width x color\n",
    "get_rank(my_image)"
   ]
  },
  {
   "cell_type": "markdown",
   "metadata": {},
   "source": [
    "## Shape\n",
    "\n",
    "The shape of a tensor is simply the number of elements in each dimension. TensorFlow automatically infers shapes during graph construction. \n",
    "\n",
    "Getting the shape of tensors is same as that of getting the spae of python lists."
   ]
  },
  {
   "cell_type": "code",
   "execution_count": 6,
   "metadata": {},
   "outputs": [
    {
     "name": "stdout",
     "output_type": "stream",
     "text": [
      "()\n"
     ]
    }
   ],
   "source": [
    "# The following is a 0-D sensor. Hence, it is a scalar quantity with no shape.\n",
    "number = tf.constant(3)\n",
    "print(number.shape)"
   ]
  },
  {
   "cell_type": "code",
   "execution_count": 7,
   "metadata": {},
   "outputs": [
    {
     "name": "stdout",
     "output_type": "stream",
     "text": [
      "(2, 3)\n"
     ]
    }
   ],
   "source": [
    "# Let us look at the shape of a 2-D Tensor\n",
    "matrix = tf.Variable([ [4, 9, 5], [16, 25, 3] ])\n",
    "print(matrix.shape)"
   ]
  },
  {
   "cell_type": "markdown",
   "metadata": {},
   "source": [
    "## Data types \n",
    "\n",
    "Similar to arrays, all elements in a tensor must have the same data type."
   ]
  },
  {
   "cell_type": "code",
   "execution_count": 8,
   "metadata": {},
   "outputs": [
    {
     "data": {
      "text/plain": [
       "tf.int32"
      ]
     },
     "execution_count": 8,
     "metadata": {},
     "output_type": "execute_result"
    }
   ],
   "source": [
    "# The following tensor has a data type of 32 bit signed integer\n",
    "number = tf.constant(3)\n",
    "number.dtype"
   ]
  },
  {
   "cell_type": "code",
   "execution_count": 9,
   "metadata": {},
   "outputs": [
    {
     "data": {
      "text/plain": [
       "tf.string_ref"
      ]
     },
     "execution_count": 9,
     "metadata": {},
     "output_type": "execute_result"
    }
   ],
   "source": [
    "# The following tensor stores a string value\n",
    "name = tf.Variable('John')\n",
    "name.dtype"
   ]
  },
  {
   "cell_type": "markdown",
   "metadata": {},
   "source": [
    "## Conclusion\n",
    "\n",
    "In this tutorial we have looked at the various properties of tensors. In the upcoming tutorial we will look at the different types of tensors. "
   ]
  }
 ],
 "metadata": {
  "kernelspec": {
   "display_name": "Python 3 (Intel, 2018 update 1)",
   "language": "python",
   "name": "intel_distribution_of_python_3_2018u1"
  },
  "language_info": {
   "codemirror_mode": {
    "name": "ipython",
    "version": 3
   },
   "file_extension": ".py",
   "mimetype": "text/x-python",
   "name": "python",
   "nbconvert_exporter": "python",
   "pygments_lexer": "ipython3",
   "version": "3.6.3"
  }
 },
 "nbformat": 4,
 "nbformat_minor": 2
}

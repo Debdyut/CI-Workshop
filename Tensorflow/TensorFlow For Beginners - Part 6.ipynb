{
 "cells": [
  {
   "cell_type": "markdown",
   "metadata": {},
   "source": [
    "## TensorFlow For Beginners - Part 6\n",
    "\n",
    "We are almost at the end of our initial discussion. We are now going to take a closer look at tensorflow variables.\n",
    "\n",
    "# Variables\n",
    "\n",
    "Anyone with programming background is familiar with the term variable. So they are again tensors but variable. Its that simple. TensorFlow documentation defines variable as the best way to represent shared, persistent state manipulated by the program.\n",
    "\n",
    "So, lets look at how we can use tensorflow variables in our programs."
   ]
  },
  {
   "cell_type": "markdown",
   "metadata": {},
   "source": [
    "### Creating variables the old way\n",
    "\n",
    "First take a look at how variables were initially created using tensorflow:"
   ]
  },
  {
   "cell_type": "code",
   "execution_count": 1,
   "metadata": {},
   "outputs": [],
   "source": [
    "import tensorflow as tf\n",
    "\n",
    "s = tf.Variable(2, name=\"scalar\") \n",
    "m = tf.Variable([[0, 1], [2, 3]], name=\"matrix\") \n",
    "W = tf.Variable(tf.zeros([784,10]))"
   ]
  },
  {
   "cell_type": "markdown",
   "metadata": {},
   "source": [
    "<b>Note:</b> It's written tf.constant with lowercase ‘c’ but tf.Variable with uppercase ‘V’. It’s because tf.constant is an op, while tf.Variable is a class with multiple ops."
   ]
  },
  {
   "cell_type": "markdown",
   "metadata": {},
   "source": [
    "### Creating variables the right way\n",
    "\n",
    "The previous method is discouraged and TensorFlow recommends that we use tf.get_variable, which allows for easy variable sharing. \n",
    "\n",
    "<b>Syntax:</b> <br />\n",
    "tf.get_variable( <br />\n",
    "    &nbsp;&nbsp;&nbsp;&nbsp;name, <br />\n",
    "    &nbsp;&nbsp;&nbsp;&nbsp;shape=None, <br />\n",
    "    &nbsp;&nbsp;&nbsp;&nbsp;dtype=None, <br />\n",
    "    &nbsp;&nbsp;&nbsp;&nbsp;initializer=None, <br /> )\n",
    "\n",
    "We have omitted the attributes, mentioning only frequently used ones.\n",
    "\n",
    "<b>Note:</b> When we use tf.constant as an initializer, we don’t need to provide shape."
   ]
  },
  {
   "cell_type": "code",
   "execution_count": 2,
   "metadata": {},
   "outputs": [],
   "source": [
    "# If variables with same name are already present then we get an error. \n",
    "# So we reset the default graph.\n",
    "tf.reset_default_graph()\n",
    "\n",
    "# Defining variables the right way\n",
    "s = tf.get_variable(\"scalar\", initializer=tf.constant(2)) \n",
    "m = tf.get_variable(\"matrix\", initializer=tf.constant([[0, 1], [2, 3]]))\n",
    "W = tf.get_variable(\"big_matrix\", shape=(784, 10), initializer=tf.zeros_initializer())"
   ]
  },
  {
   "cell_type": "markdown",
   "metadata": {},
   "source": [
    "### Initialization\n",
    "\n",
    "Variable initializers must be run explicitly before other ops in your model can be run. The easiest way to do that is to add an op that runs all the variable initializers, and run that op before using the model.\n",
    "\n",
    "We generally use <b>tf.global_variables_initializer()</b> to add an op to run variable initializers. Only run that op after you have fully constructed your model and launched it in a session.\n",
    "\n",
    "We are going to create a method which will do this whenever we try to print the value of a tensorflow variable."
   ]
  },
  {
   "cell_type": "code",
   "execution_count": 3,
   "metadata": {},
   "outputs": [],
   "source": [
    "def run(variable):    \n",
    "    with tf.Session() as sess:\n",
    "        init_op = tf.global_variables_initializer()\n",
    "        sess.run(init_op)\n",
    "        print(sess.run(variable))"
   ]
  },
  {
   "cell_type": "code",
   "execution_count": 4,
   "metadata": {},
   "outputs": [
    {
     "name": "stdout",
     "output_type": "stream",
     "text": [
      "2\n"
     ]
    }
   ],
   "source": [
    "# Let us print the value of the variable 's' from above\n",
    "run(s)"
   ]
  },
  {
   "cell_type": "markdown",
   "metadata": {},
   "source": [
    "We can also run the initializer in other ways as well. Some methods are shown below."
   ]
  },
  {
   "cell_type": "code",
   "execution_count": 5,
   "metadata": {},
   "outputs": [
    {
     "name": "stdout",
     "output_type": "stream",
     "text": [
      "[[0 1]\n",
      " [2 3]]\n"
     ]
    }
   ],
   "source": [
    "# Initializing only the required variables\n",
    "\n",
    "with tf.Session() as sess:\n",
    "    init_op = tf.variables_initializer([m, W])\n",
    "    sess.run(init_op)\n",
    "    print(m.eval())"
   ]
  },
  {
   "cell_type": "code",
   "execution_count": 6,
   "metadata": {},
   "outputs": [
    {
     "name": "stdout",
     "output_type": "stream",
     "text": [
      "5\n"
     ]
    }
   ],
   "source": [
    "# We can even initialize only the required variable\n",
    "\n",
    "x = tf.get_variable(\"x\", initializer=tf.constant(5))\n",
    "\n",
    "with tf.Session() as sess:\n",
    "    init_op = x.initializer\n",
    "    sess.run(init_op)\n",
    "    print(x.eval())"
   ]
  },
  {
   "cell_type": "markdown",
   "metadata": {},
   "source": [
    "### Initializing from other variables\n",
    "\n",
    "We sometimes need to initialize a variable from the initial value of another variable. As the operation added by tf.global_variables_initializer() initializes all variables in parallel we have to be careful when this is needed.\n",
    "\n",
    "To initialize a new variable from the value of another variable use the other variable's initialized_value() property. We can use the initialized value directly as the initial value for the new variable, or you can use it as any other tensor to compute a value for the new variable."
   ]
  },
  {
   "cell_type": "code",
   "execution_count": 7,
   "metadata": {},
   "outputs": [
    {
     "name": "stdout",
     "output_type": "stream",
     "text": [
      "20\n"
     ]
    }
   ],
   "source": [
    "# Create a new variable\n",
    "\n",
    "tf.reset_default_graph()\n",
    "\n",
    "p = tf.get_variable(\"p\", initializer=tf.constant(10))\n",
    "\n",
    "q = tf.get_variable(\"q\", initializer=p.initialized_value() * 2)\n",
    "\n",
    "run(q)"
   ]
  },
  {
   "cell_type": "markdown",
   "metadata": {},
   "source": [
    "### Assign value\n",
    "\n",
    "As the name suggests it is used to assign values to variables after initialization."
   ]
  },
  {
   "cell_type": "code",
   "execution_count": 8,
   "metadata": {},
   "outputs": [
    {
     "name": "stdout",
     "output_type": "stream",
     "text": [
      "W = 10\n",
      "Value of W after assignment = 100\n"
     ]
    }
   ],
   "source": [
    "tf.reset_default_graph()\n",
    "\n",
    "W = tf.get_variable('W', initializer=tf.constant(10))\n",
    "\n",
    "print(\"W = \", end=\"\")\n",
    "run(W)\n",
    "\n",
    "# Assignment operation\n",
    "assign_op = W.assign(100)\n",
    "\n",
    "print(\"Value of W after assignment = \", end=\"\")\n",
    "with tf.Session() as sess:\n",
    "    sess.run(assign_op)\n",
    "    print(W.eval())"
   ]
  },
  {
   "cell_type": "markdown",
   "metadata": {},
   "source": [
    "Lets look at two other assign functions:\n",
    "\n",
    "1) <b>tf.assign_add:</b> Adding mentioned value to the the variable and assign the sum to the variable. <br />\n",
    "    &nbsp;&nbsp;&nbsp;&nbsp;<code>variable = variable + value</code>\n",
    "    \n",
    "2) <b>tf.assign_sub:</b> Subtract mentioned value from the the variable and assign the difference to the variable. <br />\n",
    "    &nbsp;&nbsp;&nbsp;&nbsp;<code>variable = variable - value</code>"
   ]
  },
  {
   "cell_type": "code",
   "execution_count": 9,
   "metadata": {},
   "outputs": [
    {
     "name": "stdout",
     "output_type": "stream",
     "text": [
      "Value of variable: 10\n",
      "After adding 5 to the variable, value of variable = 15\n",
      "After substracting 10 from the variable, value of variable = 10\n"
     ]
    }
   ],
   "source": [
    "tf.reset_default_graph()\n",
    "\n",
    "a = tf.get_variable(\"a\", initializer=tf.constant(10))\n",
    "\n",
    "print(\"Value of variable: \", end=\"\")\n",
    "run(a)\n",
    "\n",
    "total = a.assign_add(5)\n",
    "\n",
    "print(\"After adding 5 to the variable, value of variable = \", end=\"\")\n",
    "run(total)\n",
    "\n",
    "diff = a.assign(10)\n",
    "\n",
    "print(\"After substracting 10 from the variable, value of variable = \", end=\"\")\n",
    "run(diff)"
   ]
  },
  {
   "cell_type": "markdown",
   "metadata": {},
   "source": [
    "Because TensorFlow sessions maintain values separately, each Session can have its own current value for a variable defined in a graph."
   ]
  },
  {
   "cell_type": "code",
   "execution_count": 10,
   "metadata": {},
   "outputs": [
    {
     "name": "stdout",
     "output_type": "stream",
     "text": [
      "20\n",
      "8\n",
      "120\n",
      "-42\n"
     ]
    }
   ],
   "source": [
    "W = tf.Variable(10)\n",
    "sess1 = tf.Session()\n",
    "sess2 = tf.Session()\n",
    "sess1.run(W.initializer)\n",
    "sess2.run(W.initializer)\n",
    "print(sess1.run(W.assign_add(10)))  # >> 20\n",
    "print(sess2.run(W.assign_sub(2)))   # >> 8\n",
    "print(sess1.run(W.assign_add(100))) # >> 120\n",
    "print(sess2.run(W.assign_sub(50)))  # >> -42\n",
    "sess1.close()\n",
    "sess2.close()"
   ]
  },
  {
   "cell_type": "markdown",
   "metadata": {},
   "source": [
    "This is all about tensorflow variables. It is important to get acquainted with variables as they are widely used in tensorflow programs. \n",
    "\n",
    "## Bonus Section\n",
    "\n",
    "### 1. Interactive sessions\n",
    "\n",
    "As you may have already felt that it is tedious to always invoke a session to evaluate a variable and it also increases the code complexity. In such situations we can use Interactive Sessions."
   ]
  },
  {
   "cell_type": "code",
   "execution_count": 11,
   "metadata": {},
   "outputs": [
    {
     "name": "stdout",
     "output_type": "stream",
     "text": [
      "30.0\n"
     ]
    }
   ],
   "source": [
    "sess = tf.InteractiveSession()\n",
    "a = tf.constant(5.0)\n",
    "b = tf.constant(6.0)\n",
    "c = a * b\n",
    "# We can just use 'c.eval()' without passing 'sess'\n",
    "print(c.eval())\n",
    "sess.close()"
   ]
  },
  {
   "cell_type": "markdown",
   "metadata": {},
   "source": [
    "### 2. Saving and Restoring variables\n",
    "\n",
    "Often it is required to save a variable and use them in some other program. Lets see how to do this. \n",
    "\n",
    "#### Saving Variables\n",
    "\n",
    "Create a Saver with tf.train.Saver() to manage all variables in the model."
   ]
  },
  {
   "cell_type": "code",
   "execution_count": 12,
   "metadata": {},
   "outputs": [
    {
     "name": "stdout",
     "output_type": "stream",
     "text": [
      "Model saved in file: model.ckpt\n"
     ]
    }
   ],
   "source": [
    "tf.reset_default_graph()\n",
    "\n",
    "# Create some variables.\n",
    "v1 = tf.get_variable(\"v1\", initializer=tf.constant(5))\n",
    "v2 = tf.get_variable(\"v2\", initializer=tf.constant(10))\n",
    "\n",
    "# Add an op to initialize the variables.\n",
    "init_op = tf.global_variables_initializer()\n",
    "\n",
    "# Add ops to save and restore all the variables.\n",
    "saver = tf.train.Saver()\n",
    "\n",
    "# Later, launch the model, initialize the variables, do some work, save the\n",
    "# variables to disk.\n",
    "with tf.Session() as sess:\n",
    "  sess.run(init_op)\n",
    "  \n",
    "  save_path = saver.save(sess, \"model.ckpt\")\n",
    "  print(\"Model saved in file: %s\" % save_path)"
   ]
  },
  {
   "cell_type": "markdown",
   "metadata": {},
   "source": [
    "#### Restoring Variables\n",
    "\n",
    "The same Saver object is used to restore variables. Note that when you restore variables from a file you do not have to initialize them beforehand."
   ]
  },
  {
   "cell_type": "code",
   "execution_count": 13,
   "metadata": {},
   "outputs": [
    {
     "name": "stdout",
     "output_type": "stream",
     "text": [
      "INFO:tensorflow:Restoring parameters from ./model.ckpt\n",
      "Model restored.\n"
     ]
    }
   ],
   "source": [
    "# Deleting all the nodes from the graph\n",
    "tf.reset_default_graph()\n",
    "\n",
    "with tf.Session() as sess:\n",
    "  # Restore variables from disk.\n",
    "  saver = tf.train.import_meta_graph('model.ckpt.meta')\n",
    "  saver.restore(sess, tf.train.latest_checkpoint('./'))\n",
    "  print(\"Model restored.\")"
   ]
  },
  {
   "cell_type": "code",
   "execution_count": 14,
   "metadata": {},
   "outputs": [
    {
     "name": "stdout",
     "output_type": "stream",
     "text": [
      "tensor_name:  v1\n",
      "5\n",
      "tensor_name:  v2\n",
      "10\n"
     ]
    }
   ],
   "source": [
    "from tensorflow.python.tools.inspect_checkpoint import print_tensors_in_checkpoint_file\n",
    "\n",
    "print_tensors_in_checkpoint_file(file_name='./model.ckpt', tensor_name = '', all_tensors = True)"
   ]
  },
  {
   "cell_type": "code",
   "execution_count": 15,
   "metadata": {},
   "outputs": [],
   "source": [
    "graph = tf.get_default_graph()\n",
    "w1 = graph.get_tensor_by_name(\"v1:0\")\n",
    "w2 = graph.get_tensor_by_name(\"v2:0\")"
   ]
  },
  {
   "cell_type": "code",
   "execution_count": 16,
   "metadata": {},
   "outputs": [
    {
     "name": "stdout",
     "output_type": "stream",
     "text": [
      "w1 = v1 = 5\n",
      "w2 = v2 = 10\n"
     ]
    }
   ],
   "source": [
    "print(\"w1 = v1 = \", end='')\n",
    "run(w1)\n",
    "\n",
    "print(\"w2 = v2 = \", end='')\n",
    "run(w2)"
   ]
  }
 ],
 "metadata": {
  "kernelspec": {
   "display_name": "Python 3 (Intel, 2018 update 1)",
   "language": "python",
   "name": "intel_distribution_of_python_3_2018u1"
  },
  "language_info": {
   "codemirror_mode": {
    "name": "ipython",
    "version": 3
   },
   "file_extension": ".py",
   "mimetype": "text/x-python",
   "name": "python",
   "nbconvert_exporter": "python",
   "pygments_lexer": "ipython3",
   "version": "3.6.3"
  }
 },
 "nbformat": 4,
 "nbformat_minor": 2
}

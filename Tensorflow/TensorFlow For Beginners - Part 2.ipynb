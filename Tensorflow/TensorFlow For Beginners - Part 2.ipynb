{
 "cells": [
  {
   "cell_type": "markdown",
   "metadata": {},
   "source": [
    "# TensorFlow For Beginners - Part 2\n",
    "\n",
    "In the last tutorial we saw a very basic program of adding 2 numbers in tensorflow. In this program, we are going to play a bit more with this program. \n",
    "\n",
    "#### Last code from previous tutorial"
   ]
  },
  {
   "cell_type": "code",
   "execution_count": 1,
   "metadata": {},
   "outputs": [
    {
     "name": "stdout",
     "output_type": "stream",
     "text": [
      "8\n"
     ]
    }
   ],
   "source": [
    "import tensorflow as tf\n",
    "\n",
    "total = tf.add(3, 5, name='add')\n",
    "\n",
    "with tf.Session() as sess:\n",
    "    print(sess.run(total))"
   ]
  },
  {
   "cell_type": "markdown",
   "metadata": {},
   "source": [
    "## Demystifying 'with' statement \n",
    "\n",
    "Before we progress further, let us first observe why we use tf.Session with a 'with' statement. <br/>\n",
    "\n",
    "The following statements use the context manager: <br/>\n",
    "<b>with tf.Session() as sess: <br/>\n",
    "&nbsp;&nbsp;&nbsp;&nbsp;print(sess.run(total)) </b><br/> \n",
    "\n",
    "The above statements are equivalent to the following chunk of code. "
   ]
  },
  {
   "cell_type": "code",
   "execution_count": 2,
   "metadata": {},
   "outputs": [
    {
     "name": "stdout",
     "output_type": "stream",
     "text": [
      "8\n"
     ]
    }
   ],
   "source": [
    "# Launch the graph in the session\n",
    "sess = tf.Session()\n",
    "\n",
    "# Evaluate the tensor 'total'\n",
    "print(sess.run(total))\n",
    "\n",
    "# Free the resources used by the session\n",
    "sess.close()"
   ]
  },
  {
   "cell_type": "markdown",
   "metadata": {},
   "source": [
    "A session may own resources, such as variables, queues, and readers. It is important to release these resources when they are no longer required. To do this, either invoke the close() method on the session, or use the session as a context manager. "
   ]
  },
  {
   "cell_type": "markdown",
   "metadata": {},
   "source": [
    "## Constant value tensors\n",
    "\n",
    "In the previous tutorial we have already given an introduction to Tensor. There are several special type of tensors. <br/>\n",
    "\n",
    "Here we are going to discuss about constant value tensors. <br />\n",
    "\n",
    "As the name suggests, constant tensors store constant values. We can create a constant tensor using the following syntax: <br/>\n",
    "<b>tf.constant(value, dtype=None, shape=None, name='Const', verify_shape=False)</b>\n",
    "\n",
    "<b>Arguments: </b>\n",
    "<ul>\n",
    "<li> value: A constant value (or list) of output type dtype.\n",
    "\n",
    "<li> dtype: The type of the elements of the resulting tensor.\n",
    "\n",
    "<li> shape: Optional dimensions of resulting tensor.\n",
    "\n",
    "<li> name: Optional name for the tensor.\n",
    "\n",
    "<li> verify_shape: Boolean that enables verification of a shape of values. </ul>\n",
    "\n",
    "Let us look at how we can employ this knowledge in our current program."
   ]
  },
  {
   "cell_type": "code",
   "execution_count": 3,
   "metadata": {},
   "outputs": [
    {
     "name": "stdout",
     "output_type": "stream",
     "text": [
      "8\n"
     ]
    }
   ],
   "source": [
    "a = tf.constant(3, name='a')\n",
    "b = tf.constant(5, name='b')\n",
    "\n",
    "total = tf.add(a, b, name='total')\n",
    "\n",
    "with tf.Session() as sess:\n",
    "    print(sess.run(total))"
   ]
  },
  {
   "cell_type": "markdown",
   "metadata": {},
   "source": [
    "In this code, we have explicitly defined 3 and 5 as constants. Previously, they were implicitly converted to tensors. <br/>\n",
    "\n",
    "Now lets look at the type of the tensors."
   ]
  },
  {
   "cell_type": "code",
   "execution_count": 4,
   "metadata": {},
   "outputs": [
    {
     "name": "stdout",
     "output_type": "stream",
     "text": [
      "Tensor(\"a:0\", shape=(), dtype=int32)\n",
      "Tensor(\"b:0\", shape=(), dtype=int32)\n",
      "Tensor(\"total:0\", shape=(), dtype=int32)\n"
     ]
    }
   ],
   "source": [
    "print(a)\n",
    "print(b)\n",
    "print(total)"
   ]
  },
  {
   "cell_type": "markdown",
   "metadata": {},
   "source": [
    "As explained in the first tutorial: <br/>\n",
    "1) 'a', 'b' and 'total' are the name of the tensors. <br/>\n",
    "2) The '0' following the colon is the index of the tensor in the outputs that produced it. <br/>\n",
    "3) Shape is empty as they only have scalar(magnitude only) value. <br/>\n",
    "4) The datatype of the elements of the tensors are 32 bits signed integer. <br/>\n",
    "\n",
    "You may have already noticed that the output of the tf.add operation is also a tensor of the same type as the inputs. \n",
    "\n",
    "In an upcoming tutorial, we will take a closer look at different types of tensors. \n",
    "\n",
    "## Simplifying add operation\n",
    "\n",
    "Now that we have explicitly defined the inputs as tensors, we may reduce some complexities from the addition statement. We can replace the function with just a '+' symbol. The output is still a tensor as before. "
   ]
  },
  {
   "cell_type": "code",
   "execution_count": 5,
   "metadata": {},
   "outputs": [
    {
     "name": "stdout",
     "output_type": "stream",
     "text": [
      "Tensor(\"add_1:0\", shape=(), dtype=int32)\n"
     ]
    }
   ],
   "source": [
    "total = a + b\n",
    "\n",
    "print(total)"
   ]
  },
  {
   "cell_type": "code",
   "execution_count": 6,
   "metadata": {},
   "outputs": [
    {
     "name": "stdout",
     "output_type": "stream",
     "text": [
      "8\n"
     ]
    }
   ],
   "source": [
    "with tf.Session() as sess:\n",
    "    print(sess.run(total))"
   ]
  },
  {
   "cell_type": "markdown",
   "metadata": {},
   "source": [
    "## Conclusion\n",
    "\n",
    "In this tutorial, we extended our previous program slightly. In the next tutorial, I will show how to visualize the generated graph using tensorboard."
   ]
  },
  {
   "cell_type": "markdown",
   "metadata": {},
   "source": [
    "## Final code"
   ]
  },
  {
   "cell_type": "code",
   "execution_count": 7,
   "metadata": {},
   "outputs": [
    {
     "name": "stdout",
     "output_type": "stream",
     "text": [
      "8\n"
     ]
    }
   ],
   "source": [
    "import tensorflow as tf\n",
    "\n",
    "a = tf.constant(3)\n",
    "b = tf.constant(5)\n",
    "\n",
    "total = a + b\n",
    "\n",
    "with tf.Session() as sess:\n",
    "    print(sess.run(total))"
   ]
  }
 ],
 "metadata": {
  "kernelspec": {
   "display_name": "Python 3 (Intel, 2018 update 1)",
   "language": "python",
   "name": "intel_distribution_of_python_3_2018u1"
  },
  "language_info": {
   "codemirror_mode": {
    "name": "ipython",
    "version": 3
   },
   "file_extension": ".py",
   "mimetype": "text/x-python",
   "name": "python",
   "nbconvert_exporter": "python",
   "pygments_lexer": "ipython3",
   "version": "3.6.3"
  }
 },
 "nbformat": 4,
 "nbformat_minor": 2
}
